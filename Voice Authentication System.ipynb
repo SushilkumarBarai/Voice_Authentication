{
 "cells": [
  {
   "cell_type": "markdown",
   "id": "69bcd825-fd88-4538-9eaa-fd134b4545e0",
   "metadata": {},
   "source": [
    "# Voice Authentication System\n",
    "\n",
    "This Python script implements a basic voice authentication system using audio recordings. It allows users to register their voice and later authenticate themselves by comparing their recorded voice with the registered one.\n"
   ]
  },
  {
   "cell_type": "code",
   "execution_count": null,
   "id": "d853340e-4a96-4b01-a1f4-2eeb6ca0b8ec",
   "metadata": {},
   "outputs": [],
   "source": [
    "import os\n",
    "import numpy as np\n",
    "import scipy.io.wavfile as wav\n",
    "from scipy.spatial.distance import euclidean\n",
    "#from fastdtw import fastdtw\n",
    "import pyaudio\n",
    "from sklearn.metrics.pairwise import cosine_similarity\n"
   ]
  },
  {
   "cell_type": "markdown",
   "id": "90300009-476b-4a95-be24-6a7b551e4970",
   "metadata": {},
   "source": [
    "# Audio directory where to save"
   ]
  },
  {
   "cell_type": "code",
   "execution_count": null,
   "id": "4df7df0e-cd65-4660-b80d-38e2d958c695",
   "metadata": {},
   "outputs": [],
   "source": [
    "USER_VOICE_DIR = \"/Users/sushilkumarbarai/Voice_Authentication\"\n"
   ]
  },
  {
   "cell_type": "markdown",
   "id": "881740ce-2ca1-420d-af82-98c3fa77aae3",
   "metadata": {},
   "source": [
    "# Recording a audio"
   ]
  },
  {
   "cell_type": "code",
   "execution_count": null,
   "id": "5e2fc621-df2a-466b-9caf-66ad19196436",
   "metadata": {},
   "outputs": [],
   "source": [
    "def record_audio(file_path, duration=3, rate=8000, chunk=1024):\n",
    "    audio = pyaudio.PyAudio()\n",
    "    stream = audio.open(format=pyaudio.paInt16, channels=1,\n",
    "                        rate=rate, input=True,\n",
    "                        frames_per_buffer=chunk)\n",
    "    \n",
    "    print(\"Recording...\")\n",
    "    frames = []\n",
    "    for _ in range(0, int(rate / chunk * duration)):\n",
    "        data = stream.read(chunk)\n",
    "        frames.append(data)\n",
    "    \n",
    "    print(\"Finished recording.\")\n",
    "    stream.stop_stream()\n",
    "    stream.close()\n",
    "    audio.terminate()\n",
    "    \n",
    "    wf = wave.open(file_path, 'wb')\n",
    "    wf.setnchannels(1)\n",
    "    wf.setsampwidth(audio.get_sample_size(pyaudio.paInt16))\n",
    "    wf.setframerate(rate)\n",
    "    wf.writeframes(b''.join(frames))\n",
    "    wf.close()\n"
   ]
  },
  {
   "cell_type": "markdown",
   "id": "7a4edbf9-d211-49ac-b64f-0cd16aaa24d4",
   "metadata": {},
   "source": [
    "# Comapre recorded audio with authentication audio (Eculedian distance)"
   ]
  },
  {
   "cell_type": "code",
   "execution_count": null,
   "id": "dc96dcbf-9b0e-48f0-8742-27dbf3cff00f",
   "metadata": {},
   "outputs": [],
   "source": [
    "def compare_audio(audio1, audio2):\n",
    "    try:\n",
    "        # audio1='/Users/sushilkumarbarai/Voice_Authentication/sample.wav'\n",
    "        # audio2='/Users/sushilkumarbarai/Voice_Authentication/sample.wav'\n",
    "        # Load audio files\n",
    "        rate1, signal1 = wav.read(audio1)\n",
    "        rate2, signal2 = wav.read(audio2)\n",
    "\n",
    "        print(f\"Audio rate1 ::: {rate1} signal1 ::: {signal1}\")\n",
    "        print(f\"Audio rate2 ::: {rate2} signal2 ::: {signal2}\")\n",
    "\n",
    "        # Ensure both audio signals have the same length\n",
    "        min_length = min(len(signal1), len(signal2))\n",
    "        signal1 = signal1[:min_length]\n",
    "        signal2 = signal2[:min_length]\n",
    "\n",
    "        # Print the shapes of the signals\n",
    "        print(\"Signal 1 shape:\", signal1.shape)\n",
    "        print(\"Signal 2 shape:\", signal2.shape)\n",
    "\n",
    "        # Convert signals to 1-D arrays\n",
    "        signal1 = np.array(signal1)\n",
    "        signal2 = np.array(signal2)\n",
    "\n",
    "        # Compute Euclidean distance\n",
    "        distance = np.linalg.norm(signal1 - signal2)\n",
    "\n",
    "        #Calculate DTW distance between the two audio signals\n",
    "        # distance,_= fastdtw(signal1, signal2)\n",
    "        print(\"Distance:\", distance)\n",
    "        \n",
    "\n",
    "        return distance\n",
    "\n",
    "    except Exception as e:\n",
    "        print(\"Error occurred during audio comparison:\", e)\n",
    "        return np.inf  # Return infinity distance in case of error\n"
   ]
  },
  {
   "cell_type": "markdown",
   "id": "4d8929f0-18af-4798-86cb-22eee383582f",
   "metadata": {},
   "source": [
    "# Authentication a user voice"
   ]
  },
  {
   "cell_type": "code",
   "execution_count": null,
   "id": "76312ffa-804e-4c38-8475-761532128b62",
   "metadata": {},
   "outputs": [],
   "source": [
    "def authenticate_user(user_id, new_audio_path):\n",
    "    user_voice_path = os.path.join(USER_VOICE_DIR, user_id + \".wav\")\n",
    "    if not os.path.exists(user_voice_path):\n",
    "        print(\"User voice not found. Please register your voice first.\")\n",
    "        return False\n",
    "    \n",
    "    distance = compare_audio(user_voice_path, new_audio_path)\n",
    "    threshold = 125000\n",
    "    # Check if the distance is less than the threshold (based on requirment you can adjust)\n",
    "    if distance < threshold:\n",
    "        print(\"Authentication successful!\")\n",
    "        return True\n",
    "    else:\n",
    "        print(\"Authentication failed. Voice does not match.\")\n",
    "        return False\n"
   ]
  },
  {
   "cell_type": "markdown",
   "id": "3f669bc7-219b-43db-8b1d-7ea9b32356e2",
   "metadata": {},
   "source": [
    "# Execution a code"
   ]
  },
  {
   "cell_type": "code",
   "execution_count": null,
   "id": "0de9ba53-497d-4a4a-9da7-f1ea4c0e4fae",
   "metadata": {},
   "outputs": [],
   "source": [
    "def main():\n",
    "    if not os.path.exists(USER_VOICE_DIR):\n",
    "        os.makedirs(USER_VOICE_DIR)\n",
    "    \n",
    "    user_id = input(\"Enter your user ID: \")\n",
    "    user_voice_path = os.path.join(USER_VOICE_DIR, user_id + \".wav\")\n",
    "    \n",
    "    record_audio(user_voice_path)\n",
    "    \n",
    "    while True:\n",
    "        input(\"Press Enter to authenticate...\")\n",
    "        new_audio_path = \"temp.wav\"\n",
    "        record_audio(new_audio_path)\n",
    "        \n",
    "        authenticated = authenticate_user(user_id, new_audio_path)\n",
    "        if authenticated:\n",
    "            break\n"
   ]
  },
  {
   "cell_type": "code",
   "execution_count": null,
   "id": "cb2e411e-dab7-4caf-809b-a3a76705e3f1",
   "metadata": {},
   "outputs": [],
   "source": [
    "main()\n"
   ]
  },
  {
   "cell_type": "code",
   "execution_count": null,
   "id": "f562ba46-f9f2-4eb3-820f-f0d9a21c0096",
   "metadata": {},
   "outputs": [],
   "source": []
  },
  {
   "cell_type": "code",
   "execution_count": null,
   "id": "a087d82b-2883-4cf4-8279-1df20aef02ea",
   "metadata": {},
   "outputs": [],
   "source": []
  },
  {
   "cell_type": "code",
   "execution_count": null,
   "id": "aef29e38-7633-40d8-9bfe-057472a5701f",
   "metadata": {},
   "outputs": [],
   "source": []
  },
  {
   "cell_type": "code",
   "execution_count": null,
   "id": "04dea386-4d55-4a14-8c68-ce8db6222059",
   "metadata": {},
   "outputs": [],
   "source": []
  }
 ],
 "metadata": {
  "kernelspec": {
   "display_name": "Python 3 (ipykernel)",
   "language": "python",
   "name": "python3"
  },
  "language_info": {
   "codemirror_mode": {
    "name": "ipython",
    "version": 3
   },
   "file_extension": ".py",
   "mimetype": "text/x-python",
   "name": "python",
   "nbconvert_exporter": "python",
   "pygments_lexer": "ipython3",
   "version": "3.8.18"
  }
 },
 "nbformat": 4,
 "nbformat_minor": 5
}
